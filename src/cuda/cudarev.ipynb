{
  "nbformat": 4,
  "nbformat_minor": 0,
  "metadata": {
    "colab": {
      "provenance": []
    },
    "kernelspec": {
      "name": "python3",
      "display_name": "Python 3"
    },
    "language_info": {
      "name": "python"
    },
    "accelerator": "GPU",
    "gpuClass": "standard"
  },
  "cells": [
    {
      "cell_type": "markdown",
      "source": [
        "# Setup CUDA"
      ],
      "metadata": {
        "id": "BDa_yA0plovE"
      }
    },
    {
      "cell_type": "code",
      "execution_count": 41,
      "metadata": {
        "colab": {
          "base_uri": "https://localhost:8080/"
        },
        "id": "2c13031Ek7eV",
        "outputId": "ab2bc94e-b7f4-44c0-aeea-362806713d9f"
      },
      "outputs": [
        {
          "output_type": "stream",
          "name": "stdout",
          "text": [
            "nvcc: NVIDIA (R) Cuda compiler driver\n",
            "Copyright (c) 2005-2022 NVIDIA Corporation\n",
            "Built on Wed_Sep_21_10:33:58_PDT_2022\n",
            "Cuda compilation tools, release 11.8, V11.8.89\n",
            "Build cuda_11.8.r11.8/compiler.31833905_0\n"
          ]
        }
      ],
      "source": [
        "!nvcc --version"
      ]
    },
    {
      "cell_type": "code",
      "source": [
        "!pip install git+https://github.com/andreinechaev/nvcc4jupyter.git"
      ],
      "metadata": {
        "colab": {
          "base_uri": "https://localhost:8080/"
        },
        "id": "LNNVgdlqlK3q",
        "outputId": "f84c3e7f-49a2-4cae-9677-2a72f3ebc4de"
      },
      "execution_count": 42,
      "outputs": [
        {
          "output_type": "stream",
          "name": "stdout",
          "text": [
            "Looking in indexes: https://pypi.org/simple, https://us-python.pkg.dev/colab-wheels/public/simple/\n",
            "Collecting git+https://github.com/andreinechaev/nvcc4jupyter.git\n",
            "  Cloning https://github.com/andreinechaev/nvcc4jupyter.git to /tmp/pip-req-build-svzhkthr\n",
            "  Running command git clone --filter=blob:none --quiet https://github.com/andreinechaev/nvcc4jupyter.git /tmp/pip-req-build-svzhkthr\n",
            "  Resolved https://github.com/andreinechaev/nvcc4jupyter.git to commit aac710a35f52bb78ab34d2e52517237941399eff\n",
            "  Preparing metadata (setup.py) ... \u001b[?25l\u001b[?25hdone\n"
          ]
        }
      ]
    },
    {
      "cell_type": "code",
      "source": [
        "%load_ext nvcc_plugin"
      ],
      "metadata": {
        "colab": {
          "base_uri": "https://localhost:8080/"
        },
        "id": "NRVuVucVlTEI",
        "outputId": "502d1407-ac50-42e8-bbc3-ece668f2de3f"
      },
      "execution_count": 43,
      "outputs": [
        {
          "output_type": "stream",
          "name": "stdout",
          "text": [
            "The nvcc_plugin extension is already loaded. To reload it, use:\n",
            "  %reload_ext nvcc_plugin\n"
          ]
        }
      ]
    },
    {
      "cell_type": "markdown",
      "source": [
        "#CUDA Parallelism Code"
      ],
      "metadata": {
        "id": "avXi18_al2jJ"
      }
    },
    {
      "cell_type": "markdown",
      "source": [
        "## Kode Percobaan Buat Test Setup Cuda (Bukan Buat Tucil CUDA)"
      ],
      "metadata": {
        "id": "Qdi2cj-uo3DA"
      }
    },
    {
      "cell_type": "code",
      "source": [
        "%%cu\n",
        "#include <iostream>\n",
        "    int main() {\n",
        "      std::cout << \"Welcome To GeeksforGeeks\\n\";\n",
        "      return 0;\n",
        "    }"
      ],
      "metadata": {
        "colab": {
          "base_uri": "https://localhost:8080/"
        },
        "id": "2YOkiavPlWgC",
        "outputId": "122056c3-f846-44e9-eef1-d3223dd9eaba"
      },
      "execution_count": 44,
      "outputs": [
        {
          "output_type": "stream",
          "name": "stdout",
          "text": [
            "Welcome To GeeksforGeeks\n",
            "\n"
          ]
        }
      ]
    },
    {
      "cell_type": "code",
      "source": [
        "%%cu\n",
        "#include <cstdio>\n",
        "#include <iostream>\n",
        "\n",
        "using namespace std;\n",
        "\n",
        "__global__ void maxi(int* a, int* b, int n)\n",
        "{\n",
        "\tint block = 256 * blockIdx.x;\n",
        "\tint max = 0;\n",
        "\n",
        "\tfor (int i = block; i < min(256 + block, n); i++) {\n",
        "\n",
        "\t\tif (max < a[i]) {\n",
        "\t\t\tmax = a[i];\n",
        "\t\t}\n",
        "\t}\n",
        "\tb[blockIdx.x] = max;\n",
        "}\n",
        "\n",
        "int main()\n",
        "{\n",
        "\n",
        "\tint n;\n",
        "\tn = 3 >> 2;\n",
        "\tint a[n];\n",
        "\n",
        "\tfor (int i = 0; i < n; i++) {\n",
        "\t\ta[i] = rand() % n;\n",
        "\t\tcout << a[i] << \"\\t\";\n",
        "\t}\n",
        "\n",
        "\tcudaEvent_t start, end;\n",
        "\tint *ad, *bd;\n",
        "\tint size = n * sizeof(int);\n",
        "\tcudaMalloc(&ad, size);\n",
        "\tcudaMemcpy(ad, a, size, cudaMemcpyHostToDevice);\n",
        "\tint grids = ceil(n * 1.0f / 256.0f);\n",
        "\tcudaMalloc(&bd, grids * sizeof(int));\n",
        "\n",
        "\tdim3 grid(grids, 1);\n",
        "\tdim3 block(1, 1);\n",
        "\n",
        "\tcudaEventCreate(&start);\n",
        "\tcudaEventCreate(&end);\n",
        "\tcudaEventRecord(start);\n",
        "\n",
        "\twhile (n > 1) {\n",
        "\t\tmaxi<<<grids, block>>>(ad, bd, n);\n",
        "\t\tn = ceil(n * 1.0f / 256.0f);\n",
        "\t\tcudaMemcpy(ad, bd, n * sizeof(int), cudaMemcpyDeviceToDevice);\n",
        "\t}\n",
        "\n",
        "\tcudaEventRecord(end);\n",
        "\tcudaEventSynchronize(end);\n",
        "\n",
        "\tfloat time = 0;\n",
        "\tcudaEventElapsedTime(&time, start, end);\n",
        "\n",
        "\tint ans[2];\n",
        "\tcudaMemcpy(ans, ad, 4, cudaMemcpyDeviceToHost);\n",
        "\n",
        "\tcout << \"The maximum element is : \" << ans[0] << endl;\n",
        "\n",
        "\tcout << \"The time required : \";\n",
        "\tcout << time << endl;\n",
        "}\n"
      ],
      "metadata": {
        "colab": {
          "base_uri": "https://localhost:8080/"
        },
        "id": "OKRwuu_mldZq",
        "outputId": "b9d0e57d-dee6-4b16-8858-5766a33d6e1e"
      },
      "execution_count": 45,
      "outputs": [
        {
          "output_type": "stream",
          "name": "stdout",
          "text": [
            "The maximum element is : 0\n",
            "The time required : 0.003136\n",
            "\n"
          ]
        }
      ]
    },
    {
      "cell_type": "markdown",
      "source": [
        "## Kode Cuda Buat Tucil"
      ],
      "metadata": {
        "id": "DWwWFtU3pAon"
      }
    },
    {
      "cell_type": "markdown",
      "source": [
        "###Cara Run :\n",
        "- upload \"cuda.cu\" yang telah kita buat\n",
        "- upload test_case.txt (kalo udah butuh test case) => ini buat tucil\n",
        "- jalankan command\n",
        "- testing sample => !time ./cuda\n",
        "- testing tucil => !time ./cuda < ./test_case/128.txt > output_cuda_128.txt"
      ],
      "metadata": {
        "id": "GI_qDy5qphaI"
      }
    },
    {
      "cell_type": "code",
      "source": [
        "!nvcc cuda.cu -o cuda"
      ],
      "metadata": {
        "id": "6ulISKKznSkx",
        "outputId": "285fc6a1-bfdf-47a4-fe73-a203c5edb55e",
        "colab": {
          "base_uri": "https://localhost:8080/"
        }
      },
      "execution_count": 46,
      "outputs": [
        {
          "output_type": "stream",
          "name": "stdout",
          "text": [
            "\u001b[01m\u001b[Kgcc:\u001b[m\u001b[K \u001b[01;31m\u001b[Kerror: \u001b[m\u001b[Kcuda.cu: No such file or directory\n",
            "\u001b[01m\u001b[Kgcc:\u001b[m\u001b[K \u001b[01;35m\u001b[Kwarning: \u001b[m\u001b[K‘\u001b[01m\u001b[K-x c++\u001b[m\u001b[K’ after last input file has no effect\n",
            "\u001b[01m\u001b[Kgcc:\u001b[m\u001b[K \u001b[01;31m\u001b[Kfatal error: \u001b[m\u001b[Kno input files\n",
            "compilation terminated.\n"
          ]
        }
      ]
    },
    {
      "cell_type": "code",
      "source": [
        "# Command Buat Jalanin test sample cuda\n",
        "!time ./cuda\n",
        "\n",
        "# Command Buat Tucil Cuda (ini masih dugaan sih)\n",
        "# !time ./cuda < ./test_case/128.txt > output_cuda_128.txt"
      ],
      "metadata": {
        "colab": {
          "base_uri": "https://localhost:8080/"
        },
        "id": "64rmY0rKoMJg",
        "outputId": "64ea6f7d-6aa8-45c7-e23b-0830afc1f677"
      },
      "execution_count": 47,
      "outputs": [
        {
          "output_type": "stream",
          "name": "stdout",
          "text": [
            "/bin/bash: ./cuda: No such file or directory\n",
            "\n",
            "real\t0m0.001s\n",
            "user\t0m0.000s\n",
            "sys\t0m0.000s\n"
          ]
        }
      ]
    },
    {
      "cell_type": "code",
      "source": [
        "%%cu\n",
        "#include <stdio.h>\n",
        "#include <stdlib.h>\n",
        "#include <math.h>\n",
        "#include <cuComplex.h>\n",
        "\n",
        "#define MAX_N 512\n",
        "#ifndef M_PI\n",
        " # define M_PI\t\t3.14159265358979323846\n",
        "#endif\n",
        "\n",
        "struct Matrix {\n",
        "    int size;\n",
        "    double mat[MAX_N][MAX_N];\n",
        "};\n",
        "\n",
        "struct FreqMatrix {\n",
        "    int size;\n",
        "    cuDoubleComplex mat[MAX_N][MAX_N];\n",
        "};\n",
        "\n",
        "__host__ __device__ static __inline__ cuDoubleComplex cuCexp(cuDoubleComplex x)\n",
        "{\n",
        "\tdouble factor = exp(x.x);\n",
        "\treturn make_cuDoubleComplex(factor * cos(x.y), factor * sin(x.y));\n",
        "}\n",
        "\n",
        "void readMatrix(struct Matrix *m) {\n",
        "    scanf(\"%d\", &(m->size));\n",
        "    for (int i = 0; i < m->size; i++)\n",
        "        for (int j = 0; j < m->size; j++)\n",
        "            scanf(\"%lf\", &(m->mat[i][j]));\n",
        "}\n",
        "\n",
        "cuDoubleComplex dft(struct Matrix *mat, int k, int l) {\n",
        "    cuDoubleComplex element = make_cuDoubleComplex(0.0, 0.0);\n",
        "    for (int m = 0; m < mat->size; m++) {\n",
        "        for (int n = 0; n < mat->size; n++) {\n",
        "            double arg = (k * m / (double)mat->size) + (l * n / (double)mat->size);\n",
        "            cuDoubleComplex exponent = cuCexp(make_cuDoubleComplex(0.0, -2.0 * M_PI * arg));\n",
        "            cuDoubleComplex mat_elem = make_cuDoubleComplex(mat->mat[m][n], 0.0);\n",
        "            element = cuCadd(element, cuCmul(mat_elem, exponent));\n",
        "        }\n",
        "    }\n",
        "    return cuCdiv(element, make_cuDoubleComplex(mat->size * mat->size, 0.0));\n",
        "}\n",
        "\n",
        "__global__ void sum_elements(struct FreqMatrix *mat, cuDoubleComplex *sum) {\n",
        "    int col = blockDim.x * blockIdx.x + threadIdx.x;\n",
        "    int row = blockDim.y * blockIdx.y + threadIdx.y;\n",
        "\n",
        "    // posisi element matrix di bentuk row-major-order matrix\n",
        "    int index = row * MAX_N + col;\n",
        "\n",
        "    // jika row dan col masih berada pada jangkauan size matrix\n",
        "    if (col < mat->size && row < mat->size) {\n",
        "        cuDoubleComplex el = make_cuDoubleComplex(mat->mat[index], 0.0);\n",
        "        *sum = cuCadd(*sum, el);\n",
        "    }\n",
        "}\n",
        "\n",
        "int main(void) {\n",
        "    struct Matrix source;\n",
        "    struct FreqMatrix freq_domain;\n",
        "    readMatrix(&source);\n",
        "    freq_domain.size = source.size;\n",
        "    cuDoubleComplex sum = make_cuDoubleComplex(0.0, 0.0);\n",
        "    // copy sum\n",
        "    cuDoubleComplex *d_sum;\n",
        "    // copy matrix freq_domain\n",
        "    struct FreqMatrix *d_freq_domain;\n",
        "\n",
        "    // size dari copy sum dan copy matrix freq_domain\n",
        "    size_t size_sum = MAX_N*sizeof(cuDoubleComplex);\n",
        "    size_t size_mat = MAX_N*MAX_N*sizeof(struct FreqMatrix);\n",
        "\n",
        "    // alokasi memori untuk device copy dari sum dan copy dari matrix freq_domain\n",
        "    cudaMalloc((void **)&d_sum, size_sum);\n",
        "    cudaMalloc((void **)&d_freq_domain, size_mat);\n",
        "\n",
        "    // inialisasi freq_domain\n",
        "    for (int k = 0; k < source.size; k++)\n",
        "        for (int l = 0; l < source.size; l++)\n",
        "            freq_domain.mat[k][l] = dft(&source, k, l);\n",
        "    // copy sum dan matrix freq_domain ke devices/GPU\n",
        "    cudaMemcpy(d_sum, &sum, size_sum, cudaMemcpyHostToDevice);\n",
        "    cudaMemcpy(d_freq_domain, freq_domain, size_mat, cudaMemcpyHostToDevice);\n",
        "\n",
        "    // init block and grid\n",
        "    dim3 block(512, 512);    // dimensi block 512 * 512 * 1\n",
        "    dim3 grid((int) ceil (MAX_N/block.x), (int)ceil(MAX_N/block.y));  // dimensi grid\n",
        "\n",
        "    // GPU\n",
        "    sum_elements<<<grid,block>>>(d_freq_domain, d_sum);\n",
        "\n",
        "    // mengambil hasil sum dari GPU ke host\n",
        "    cudaMemcpy(&sum, d_sum, size_sum, cudaMemcpyDeviceToHost);\n",
        "\n",
        "    // sum /= source.size;\n",
        "    sum = cuCdiv(sum, make_cuDoubleComplex(source.size, 0.0));\n",
        "    printf(\"Average : (%lf, %lf)\", cuCreal(sum), cuCimag(sum));\n",
        "\n",
        "    // free alokasi\n",
        "    cudaFree(d_sum);\n",
        "    cudaFree(d_freq_domain);\n",
        "\n",
        "    return 0;\n",
        "}"
      ],
      "metadata": {
        "colab": {
          "base_uri": "https://localhost:8080/"
        },
        "id": "EIRhaw88NoPe",
        "outputId": "d78a5877-0842-42a8-c03c-5dbb674fb3ac"
      },
      "execution_count": 54,
      "outputs": [
        {
          "output_type": "stream",
          "name": "stdout",
          "text": [
            "/tmp/tmp3ugsrrh9/b8d09287-62e6-4a3d-b88d-6ab625000755.cu(56): error: argument of type \"cuDoubleComplex *\" is incompatible with parameter of type \"double\"\n",
            "\n",
            "/tmp/tmp3ugsrrh9/b8d09287-62e6-4a3d-b88d-6ab625000755.cu(86): error: no suitable conversion function from \"FreqMatrix\" to \"const void *\" exists\n",
            "\n",
            "2 errors detected in the compilation of \"/tmp/tmp3ugsrrh9/b8d09287-62e6-4a3d-b88d-6ab625000755.cu\".\n",
            "\n"
          ]
        }
      ]
    }
  ]
}